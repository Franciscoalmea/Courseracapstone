{
    "cells": [
        {
            "metadata": {},
            "cell_type": "code",
            "source": "import pandas as pd\nimport numpy as np\nimport matplotlib.pyplot as plt\nimport seaborn as sns\nimport requests\n%matplotlib inline\nprint (\"Todo listo\")",
            "execution_count": 1,
            "outputs": [
                {
                    "output_type": "stream",
                    "text": "Todo listo\n",
                    "name": "stdout"
                }
            ]
        },
        {
            "metadata": {},
            "cell_type": "code",
            "source": "from urllib.request import urlopen # para abrir URL\nfrom bs4 import BeautifulSoup # Libreria para copiar la informaci\u00f3n",
            "execution_count": 2,
            "outputs": []
        },
        {
            "metadata": {},
            "cell_type": "code",
            "source": "\n# define the dataframe columns\ncolumn_names = ['PostalCode','Borough', 'Neighborhood'] \n\n# instantiate the dataframe\nneighborhoods = pd.DataFrame(columns=column_names)\nneighborhoods",
            "execution_count": 3,
            "outputs": [
                {
                    "output_type": "execute_result",
                    "execution_count": 3,
                    "data": {
                        "text/plain": "Empty DataFrame\nColumns: [PostalCode, Borough, Neighborhood]\nIndex: []",
                        "text/html": "<div>\n<style scoped>\n    .dataframe tbody tr th:only-of-type {\n        vertical-align: middle;\n    }\n\n    .dataframe tbody tr th {\n        vertical-align: top;\n    }\n\n    .dataframe thead th {\n        text-align: right;\n    }\n</style>\n<table border=\"1\" class=\"dataframe\">\n  <thead>\n    <tr style=\"text-align: right;\">\n      <th></th>\n      <th>PostalCode</th>\n      <th>Borough</th>\n      <th>Neighborhood</th>\n    </tr>\n  </thead>\n  <tbody>\n  </tbody>\n</table>\n</div>"
                    },
                    "metadata": {}
                }
            ]
        },
        {
            "metadata": {},
            "cell_type": "code",
            "source": "url = \"https://en.wikipedia.org/wiki/List_of_postal_codes_of_Canada:_M\" #el url que queremos scrapear\nhtml = urlopen(url)",
            "execution_count": 4,
            "outputs": []
        },
        {
            "metadata": {},
            "cell_type": "code",
            "source": "soup = BeautifulSoup(html, 'lxml')\ntype(soup)",
            "execution_count": 5,
            "outputs": [
                {
                    "output_type": "execute_result",
                    "execution_count": 5,
                    "data": {
                        "text/plain": "bs4.BeautifulSoup"
                    },
                    "metadata": {}
                }
            ]
        },
        {
            "metadata": {},
            "cell_type": "code",
            "source": "# Get the title\ntitle = soup.title\nprint(title)",
            "execution_count": 6,
            "outputs": [
                {
                    "output_type": "stream",
                    "text": "<title>List of postal codes of Canada: M - Wikipedia</title>\n",
                    "name": "stdout"
                }
            ]
        },
        {
            "metadata": {},
            "cell_type": "code",
            "source": "# Print out the text\ntext = soup.get_text()\n#print(soup.text)\n#You can use the find_all() method of soup to extract useful html tags within a webpage. Examples of useful tags include < a > for hyperlinks, < table > for tables, < tr > for table rows, < th > for table headers, and < td > for table cells. The code below shows how to extract all the hyperlinks within the webpage.",
            "execution_count": null,
            "outputs": []
        },
        {
            "metadata": {},
            "cell_type": "code",
            "source": "#all_links=soup.find_all('a') #all links in the table\n#for link in all_links:\n   # print(link.get(\"href\"))",
            "execution_count": null,
            "outputs": []
        },
        {
            "metadata": {},
            "cell_type": "code",
            "source": "#rows=soup.find_all('tr') #rows in the table\n#print (rows[:10])",
            "execution_count": null,
            "outputs": []
        },
        {
            "metadata": {},
            "cell_type": "code",
            "source": "website_url = requests.get(url).text",
            "execution_count": 7,
            "outputs": []
        },
        {
            "metadata": {},
            "cell_type": "code",
            "source": "from bs4 import BeautifulSoup\nsoup = BeautifulSoup(website_url,'lxml')\nprint(soup.prettify())",
            "execution_count": null,
            "outputs": []
        },
        {
            "metadata": {},
            "cell_type": "code",
            "source": "megaTable= soup.find('table',{'class':'wikitable sortable'})\n",
            "execution_count": 8,
            "outputs": []
        },
        {
            "metadata": {},
            "cell_type": "code",
            "source": "rowValList = []\n\nfor i in range(len(megaTable.find_all('td'))):\n    rowVal = megaTable.find_all('td')[i].get_text()\n    \n    rowValList.append(rowVal)\nrowValList",
            "execution_count": 9,
            "outputs": [
                {
                    "output_type": "execute_result",
                    "execution_count": 9,
                    "data": {
                        "text/plain": "['M1A\\n',\n 'Not assigned\\n',\n '\\n',\n 'M2A\\n',\n 'Not assigned\\n',\n '\\n',\n 'M3A\\n',\n 'North York\\n',\n 'Parkwoods\\n',\n 'M4A\\n',\n 'North York\\n',\n 'Victoria Village\\n',\n 'M5A\\n',\n 'Downtown Toronto\\n',\n 'Regent Park / Harbourfront\\n',\n 'M6A\\n',\n 'North York\\n',\n 'Lawrence Manor / Lawrence Heights\\n',\n 'M7A\\n',\n 'Downtown Toronto\\n',\n \"Queen's Park / Ontario Provincial Government\\n\",\n 'M8A\\n',\n 'Not assigned\\n',\n '\\n',\n 'M9A\\n',\n 'Etobicoke\\n',\n 'Islington Avenue\\n',\n 'M1B\\n',\n 'Scarborough\\n',\n 'Malvern / Rouge\\n',\n 'M2B\\n',\n 'Not assigned\\n',\n '\\n',\n 'M3B\\n',\n 'North York\\n',\n 'Don Mills\\n',\n 'M4B\\n',\n 'East York\\n',\n 'Parkview Hill / Woodbine Gardens\\n',\n 'M5B\\n',\n 'Downtown Toronto\\n',\n 'Garden District, Ryerson\\n',\n 'M6B\\n',\n 'North York\\n',\n 'Glencairn\\n',\n 'M7B\\n',\n 'Not assigned\\n',\n '\\n',\n 'M8B\\n',\n 'Not assigned\\n',\n '\\n',\n 'M9B\\n',\n 'Etobicoke\\n',\n 'West Deane Park / Princess Gardens / Martin Grove / Islington / Cloverdale\\n',\n 'M1C\\n',\n 'Scarborough\\n',\n 'Rouge Hill / Port Union / Highland Creek\\n',\n 'M2C\\n',\n 'Not assigned\\n',\n '\\n',\n 'M3C\\n',\n 'North York\\n',\n 'Don Mills\\n',\n 'M4C\\n',\n 'East York\\n',\n 'Woodbine Heights\\n',\n 'M5C\\n',\n 'Downtown Toronto\\n',\n 'St. James Town\\n',\n 'M6C\\n',\n 'York\\n',\n 'Humewood-Cedarvale\\n',\n 'M7C\\n',\n 'Not assigned\\n',\n '\\n',\n 'M8C\\n',\n 'Not assigned\\n',\n '\\n',\n 'M9C\\n',\n 'Etobicoke\\n',\n 'Eringate / Bloordale Gardens / Old Burnhamthorpe / Markland Wood\\n',\n 'M1E\\n',\n 'Scarborough\\n',\n 'Guildwood / Morningside / West Hill\\n',\n 'M2E\\n',\n 'Not assigned\\n',\n '\\n',\n 'M3E\\n',\n 'Not assigned\\n',\n '\\n',\n 'M4E\\n',\n 'East Toronto\\n',\n 'The Beaches\\n',\n 'M5E\\n',\n 'Downtown Toronto\\n',\n 'Berczy Park\\n',\n 'M6E\\n',\n 'York\\n',\n 'Caledonia-Fairbanks\\n',\n 'M7E\\n',\n 'Not assigned\\n',\n '\\n',\n 'M8E\\n',\n 'Not assigned\\n',\n '\\n',\n 'M9E\\n',\n 'Not assigned\\n',\n '\\n',\n 'M1G\\n',\n 'Scarborough\\n',\n 'Woburn\\n',\n 'M2G\\n',\n 'Not assigned\\n',\n '\\n',\n 'M3G\\n',\n 'Not assigned\\n',\n '\\n',\n 'M4G\\n',\n 'East York\\n',\n 'Leaside\\n',\n 'M5G\\n',\n 'Downtown Toronto\\n',\n 'Central Bay Street\\n',\n 'M6G\\n',\n 'Downtown Toronto\\n',\n 'Christie\\n',\n 'M7G\\n',\n 'Not assigned\\n',\n '\\n',\n 'M8G\\n',\n 'Not assigned\\n',\n '\\n',\n 'M9G\\n',\n 'Not assigned\\n',\n '\\n',\n 'M1H\\n',\n 'Scarborough\\n',\n 'Cedarbrae\\n',\n 'M2H\\n',\n 'North York\\n',\n 'Hillcrest Village\\n',\n 'M3H\\n',\n 'North York\\n',\n 'Bathurst Manor / Wilson Heights / Downsview North\\n',\n 'M4H\\n',\n 'East York\\n',\n 'Thorncliffe Park\\n',\n 'M5H\\n',\n 'Downtown Toronto\\n',\n 'Richmond / Adelaide / King\\n',\n 'M6H\\n',\n 'West Toronto\\n',\n 'Dufferin / Dovercourt Village\\n',\n 'M7H\\n',\n 'Not assigned\\n',\n '\\n',\n 'M8H\\n',\n 'Not assigned\\n',\n '\\n',\n 'M9H\\n',\n 'Not assigned\\n',\n '\\n',\n 'M1J\\n',\n 'Scarborough\\n',\n 'Scarborough Village\\n',\n 'M2J\\n',\n 'North York\\n',\n 'Fairview / Henry Farm / Oriole\\n',\n 'M3J\\n',\n 'North York\\n',\n 'Northwood Park / York University\\n',\n 'M4J\\n',\n 'East York\\n',\n 'East Toronto\\n',\n 'M5J\\n',\n 'Downtown Toronto\\n',\n 'Harbourfront East / Union Station / Toronto Islands\\n',\n 'M6J\\n',\n 'West Toronto\\n',\n 'Little Portugal / Trinity\\n',\n 'M7J\\n',\n 'Not assigned\\n',\n '\\n',\n 'M8J\\n',\n 'Not assigned\\n',\n '\\n',\n 'M9J\\n',\n 'Not assigned\\n',\n '\\n',\n 'M1K\\n',\n 'Scarborough\\n',\n 'Kennedy Park / Ionview / East Birchmount Park\\n',\n 'M2K\\n',\n 'North York\\n',\n 'Bayview Village\\n',\n 'M3K\\n',\n 'North York\\n',\n 'Downsview\\n',\n 'M4K\\n',\n 'East Toronto\\n',\n 'The Danforth West / Riverdale\\n',\n 'M5K\\n',\n 'Downtown Toronto\\n',\n 'Toronto Dominion Centre / Design Exchange\\n',\n 'M6K\\n',\n 'West Toronto\\n',\n 'Brockton / Parkdale Village / Exhibition Place\\n',\n 'M7K\\n',\n 'Not assigned\\n',\n '\\n',\n 'M8K\\n',\n 'Not assigned\\n',\n '\\n',\n 'M9K\\n',\n 'Not assigned\\n',\n '\\n',\n 'M1L\\n',\n 'Scarborough\\n',\n 'Golden Mile / Clairlea / Oakridge\\n',\n 'M2L\\n',\n 'North York\\n',\n 'York Mills / Silver Hills\\n',\n 'M3L\\n',\n 'North York\\n',\n 'Downsview\\n',\n 'M4L\\n',\n 'East Toronto\\n',\n 'India Bazaar / The Beaches West\\n',\n 'M5L\\n',\n 'Downtown Toronto\\n',\n 'Commerce Court / Victoria Hotel\\n',\n 'M6L\\n',\n 'North York\\n',\n 'North Park / Maple Leaf Park / Upwood Park\\n',\n 'M7L\\n',\n 'Not assigned\\n',\n '\\n',\n 'M8L\\n',\n 'Not assigned\\n',\n '\\n',\n 'M9L\\n',\n 'North York\\n',\n 'Humber Summit\\n',\n 'M1M\\n',\n 'Scarborough\\n',\n 'Cliffside / Cliffcrest / Scarborough Village West\\n',\n 'M2M\\n',\n 'North York\\n',\n 'Willowdale / Newtonbrook\\n',\n 'M3M\\n',\n 'North York\\n',\n 'Downsview\\n',\n 'M4M\\n',\n 'East Toronto\\n',\n 'Studio District\\n',\n 'M5M\\n',\n 'North York\\n',\n 'Bedford Park / Lawrence Manor East\\n',\n 'M6M\\n',\n 'York\\n',\n 'Del Ray / Mount Dennis / Keelsdale and Silverthorn\\n',\n 'M7M\\n',\n 'Not assigned\\n',\n '\\n',\n 'M8M\\n',\n 'Not assigned\\n',\n '\\n',\n 'M9M\\n',\n 'North York\\n',\n 'Humberlea / Emery\\n',\n 'M1N\\n',\n 'Scarborough\\n',\n 'Birch Cliff / Cliffside West\\n',\n 'M2N\\n',\n 'North York\\n',\n 'Willowdale\\n',\n 'M3N\\n',\n 'North York\\n',\n 'Downsview\\n',\n 'M4N\\n',\n 'Central Toronto\\n',\n 'Lawrence Park\\n',\n 'M5N\\n',\n 'Central Toronto\\n',\n 'Roselawn\\n',\n 'M6N\\n',\n 'York\\n',\n 'Runnymede / The Junction North\\n',\n 'M7N\\n',\n 'Not assigned\\n',\n '\\n',\n 'M8N\\n',\n 'Not assigned\\n',\n '\\n',\n 'M9N\\n',\n 'York\\n',\n 'Weston\\n',\n 'M1P\\n',\n 'Scarborough\\n',\n 'Dorset Park / Wexford Heights / Scarborough Town Centre\\n',\n 'M2P\\n',\n 'North York\\n',\n 'York Mills West\\n',\n 'M3P\\n',\n 'Not assigned\\n',\n '\\n',\n 'M4P\\n',\n 'Central Toronto\\n',\n 'Davisville North\\n',\n 'M5P\\n',\n 'Central Toronto\\n',\n 'Forest Hill North & West\\n',\n 'M6P\\n',\n 'West Toronto\\n',\n 'High Park / The Junction South\\n',\n 'M7P\\n',\n 'Not assigned\\n',\n '\\n',\n 'M8P\\n',\n 'Not assigned\\n',\n '\\n',\n 'M9P\\n',\n 'Etobicoke\\n',\n 'Westmount\\n',\n 'M1R\\n',\n 'Scarborough\\n',\n 'Wexford / Maryvale\\n',\n 'M2R\\n',\n 'North York\\n',\n 'Willowdale\\n',\n 'M3R\\n',\n 'Not assigned\\n',\n '\\n',\n 'M4R\\n',\n 'Central Toronto\\n',\n 'North Toronto West\\n',\n 'M5R\\n',\n 'Central Toronto\\n',\n 'The Annex / North Midtown / Yorkville\\n',\n 'M6R\\n',\n 'West Toronto\\n',\n 'Parkdale / Roncesvalles\\n',\n 'M7R\\n',\n 'Mississauga\\n',\n 'Canada Post Gateway Processing Centre\\n',\n 'M8R\\n',\n 'Not assigned\\n',\n '\\n',\n 'M9R\\n',\n 'Etobicoke\\n',\n 'Kingsview Village / St. Phillips / Martin Grove Gardens / Richview Gardens\\n',\n 'M1S\\n',\n 'Scarborough\\n',\n 'Agincourt\\n',\n 'M2S\\n',\n 'Not assigned\\n',\n '\\n',\n 'M3S\\n',\n 'Not assigned\\n',\n '\\n',\n 'M4S\\n',\n 'Central Toronto\\n',\n 'Davisville\\n',\n 'M5S\\n',\n 'Downtown Toronto\\n',\n 'University of Toronto / Harbord\\n',\n 'M6S\\n',\n 'West Toronto\\n',\n 'Runnymede / Swansea\\n',\n 'M7S\\n',\n 'Not assigned\\n',\n '\\n',\n 'M8S\\n',\n 'Not assigned\\n',\n '\\n',\n 'M9S\\n',\n 'Not assigned\\n',\n '\\n',\n 'M1T\\n',\n 'Scarborough\\n',\n \"Clarks Corners / Tam O'Shanter / Sullivan\\n\",\n 'M2T\\n',\n 'Not assigned\\n',\n '\\n',\n 'M3T\\n',\n 'Not assigned\\n',\n '\\n',\n 'M4T\\n',\n 'Central Toronto\\n',\n 'Moore Park / Summerhill East\\n',\n 'M5T\\n',\n 'Downtown Toronto\\n',\n 'Kensington Market / Chinatown / Grange Park\\n',\n 'M6T\\n',\n 'Not assigned\\n',\n '\\n',\n 'M7T\\n',\n 'Not assigned\\n',\n '\\n',\n 'M8T\\n',\n 'Not assigned\\n',\n '\\n',\n 'M9T\\n',\n 'Not assigned\\n',\n '\\n',\n 'M1V\\n',\n 'Scarborough\\n',\n \"Milliken / Agincourt North / Steeles East / L'Amoreaux East\\n\",\n 'M2V\\n',\n 'Not assigned\\n',\n '\\n',\n 'M3V\\n',\n 'Not assigned\\n',\n '\\n',\n 'M4V\\n',\n 'Central Toronto\\n',\n 'Summerhill West / Rathnelly / South Hill / Forest Hill SE / Deer Park\\n',\n 'M5V\\n',\n 'Downtown Toronto\\n',\n 'CN Tower / King and Spadina / Railway Lands / Harbourfront West / Bathurst Quay / South Niagara / Island airport\\n',\n 'M6V\\n',\n 'Not assigned\\n',\n '\\n',\n 'M7V\\n',\n 'Not assigned\\n',\n '\\n',\n 'M8V\\n',\n 'Etobicoke\\n',\n 'New Toronto / Mimico South / Humber Bay Shores\\n',\n 'M9V\\n',\n 'Etobicoke\\n',\n 'South Steeles / Silverstone / Humbergate / Jamestown / Mount Olive / Beaumond Heights / Thistletown / Albion Gardens\\n',\n 'M1W\\n',\n 'Scarborough\\n',\n \"Steeles West / L'Amoreaux West\\n\",\n 'M2W\\n',\n 'Not assigned\\n',\n '\\n',\n 'M3W\\n',\n 'Not assigned\\n',\n '\\n',\n 'M4W\\n',\n 'Downtown Toronto\\n',\n 'Rosedale\\n',\n 'M5W\\n',\n 'Downtown Toronto\\n',\n 'Stn A PO Boxes\\n',\n 'M6W\\n',\n 'Not assigned\\n',\n '\\n',\n 'M7W\\n',\n 'Not assigned\\n',\n '\\n',\n 'M8W\\n',\n 'Etobicoke\\n',\n 'Alderwood / Long Branch\\n',\n 'M9W\\n',\n 'Etobicoke\\n',\n 'Northwest\\n',\n 'M1X\\n',\n 'Scarborough\\n',\n 'Upper Rouge\\n',\n 'M2X\\n',\n 'Not assigned\\n',\n '\\n',\n 'M3X\\n',\n 'Not assigned\\n',\n '\\n',\n 'M4X\\n',\n 'Downtown Toronto\\n',\n 'St. James Town / Cabbagetown\\n',\n 'M5X\\n',\n 'Downtown Toronto\\n',\n 'First Canadian Place / Underground city\\n',\n 'M6X\\n',\n 'Not assigned\\n',\n '\\n',\n 'M7X\\n',\n 'Not assigned\\n',\n '\\n',\n 'M8X\\n',\n 'Etobicoke\\n',\n 'The Kingsway / Montgomery Road  / Old Mill North\\n',\n 'M9X\\n',\n 'Not assigned\\n',\n '\\n',\n 'M1Y\\n',\n 'Not assigned\\n',\n '\\n',\n 'M2Y\\n',\n 'Not assigned\\n',\n '\\n',\n 'M3Y\\n',\n 'Not assigned\\n',\n '\\n',\n 'M4Y\\n',\n 'Downtown Toronto\\n',\n 'Church and Wellesley\\n',\n 'M5Y\\n',\n 'Not assigned\\n',\n '\\n',\n 'M6Y\\n',\n 'Not assigned\\n',\n '\\n',\n 'M7Y\\n',\n 'East Toronto\\n',\n 'Business reply mail Processing CentrE\\n',\n 'M8Y\\n',\n 'Etobicoke\\n',\n \"Old Mill South / King's Mill Park / Sunnylea / Humber Bay / Mimico NE / The Queensway East / Royal York South East / Kingsway Park South East\\n\",\n 'M9Y\\n',\n 'Not assigned\\n',\n '\\n',\n 'M1Z\\n',\n 'Not assigned\\n',\n '\\n',\n 'M2Z\\n',\n 'Not assigned\\n',\n '\\n',\n 'M3Z\\n',\n 'Not assigned\\n',\n '\\n',\n 'M4Z\\n',\n 'Not assigned\\n',\n '\\n',\n 'M5Z\\n',\n 'Not assigned\\n',\n '\\n',\n 'M6Z\\n',\n 'Not assigned\\n',\n '\\n',\n 'M7Z\\n',\n 'Not assigned\\n',\n '\\n',\n 'M8Z\\n',\n 'Etobicoke\\n',\n 'Mimico NW / The Queensway West / South of Bloor / Kingsway Park South West / Royal York South West\\n',\n 'M9Z\\n',\n 'Not assigned\\n',\n '\\n']"
                    },
                    "metadata": {}
                }
            ]
        },
        {
            "metadata": {},
            "cell_type": "code",
            "source": "#hay que quitar los saltos de linea de la lista\nlimpio = []\n\nfor element in rowValList:\n    limpio.append(element.strip())\n\nprint(limpio)",
            "execution_count": 23,
            "outputs": [
                {
                    "output_type": "stream",
                    "text": "['M1A', 'Not assigned', '', 'M2A', 'Not assigned', '', 'M3A', 'North York', 'Parkwoods', 'M4A', 'North York', 'Victoria Village', 'M5A', 'Downtown Toronto', 'Regent Park / Harbourfront', 'M6A', 'North York', 'Lawrence Manor / Lawrence Heights', 'M7A', 'Downtown Toronto', \"Queen's Park / Ontario Provincial Government\", 'M8A', 'Not assigned', '', 'M9A', 'Etobicoke', 'Islington Avenue', 'M1B', 'Scarborough', 'Malvern / Rouge', 'M2B', 'Not assigned', '', 'M3B', 'North York', 'Don Mills', 'M4B', 'East York', 'Parkview Hill / Woodbine Gardens', 'M5B', 'Downtown Toronto', 'Garden District, Ryerson', 'M6B', 'North York', 'Glencairn', 'M7B', 'Not assigned', '', 'M8B', 'Not assigned', '', 'M9B', 'Etobicoke', 'West Deane Park / Princess Gardens / Martin Grove / Islington / Cloverdale', 'M1C', 'Scarborough', 'Rouge Hill / Port Union / Highland Creek', 'M2C', 'Not assigned', '', 'M3C', 'North York', 'Don Mills', 'M4C', 'East York', 'Woodbine Heights', 'M5C', 'Downtown Toronto', 'St. James Town', 'M6C', 'York', 'Humewood-Cedarvale', 'M7C', 'Not assigned', '', 'M8C', 'Not assigned', '', 'M9C', 'Etobicoke', 'Eringate / Bloordale Gardens / Old Burnhamthorpe / Markland Wood', 'M1E', 'Scarborough', 'Guildwood / Morningside / West Hill', 'M2E', 'Not assigned', '', 'M3E', 'Not assigned', '', 'M4E', 'East Toronto', 'The Beaches', 'M5E', 'Downtown Toronto', 'Berczy Park', 'M6E', 'York', 'Caledonia-Fairbanks', 'M7E', 'Not assigned', '', 'M8E', 'Not assigned', '', 'M9E', 'Not assigned', '', 'M1G', 'Scarborough', 'Woburn', 'M2G', 'Not assigned', '', 'M3G', 'Not assigned', '', 'M4G', 'East York', 'Leaside', 'M5G', 'Downtown Toronto', 'Central Bay Street', 'M6G', 'Downtown Toronto', 'Christie', 'M7G', 'Not assigned', '', 'M8G', 'Not assigned', '', 'M9G', 'Not assigned', '', 'M1H', 'Scarborough', 'Cedarbrae', 'M2H', 'North York', 'Hillcrest Village', 'M3H', 'North York', 'Bathurst Manor / Wilson Heights / Downsview North', 'M4H', 'East York', 'Thorncliffe Park', 'M5H', 'Downtown Toronto', 'Richmond / Adelaide / King', 'M6H', 'West Toronto', 'Dufferin / Dovercourt Village', 'M7H', 'Not assigned', '', 'M8H', 'Not assigned', '', 'M9H', 'Not assigned', '', 'M1J', 'Scarborough', 'Scarborough Village', 'M2J', 'North York', 'Fairview / Henry Farm / Oriole', 'M3J', 'North York', 'Northwood Park / York University', 'M4J', 'East York', 'East Toronto', 'M5J', 'Downtown Toronto', 'Harbourfront East / Union Station / Toronto Islands', 'M6J', 'West Toronto', 'Little Portugal / Trinity', 'M7J', 'Not assigned', '', 'M8J', 'Not assigned', '', 'M9J', 'Not assigned', '', 'M1K', 'Scarborough', 'Kennedy Park / Ionview / East Birchmount Park', 'M2K', 'North York', 'Bayview Village', 'M3K', 'North York', 'Downsview', 'M4K', 'East Toronto', 'The Danforth West / Riverdale', 'M5K', 'Downtown Toronto', 'Toronto Dominion Centre / Design Exchange', 'M6K', 'West Toronto', 'Brockton / Parkdale Village / Exhibition Place', 'M7K', 'Not assigned', '', 'M8K', 'Not assigned', '', 'M9K', 'Not assigned', '', 'M1L', 'Scarborough', 'Golden Mile / Clairlea / Oakridge', 'M2L', 'North York', 'York Mills / Silver Hills', 'M3L', 'North York', 'Downsview', 'M4L', 'East Toronto', 'India Bazaar / The Beaches West', 'M5L', 'Downtown Toronto', 'Commerce Court / Victoria Hotel', 'M6L', 'North York', 'North Park / Maple Leaf Park / Upwood Park', 'M7L', 'Not assigned', '', 'M8L', 'Not assigned', '', 'M9L', 'North York', 'Humber Summit', 'M1M', 'Scarborough', 'Cliffside / Cliffcrest / Scarborough Village West', 'M2M', 'North York', 'Willowdale / Newtonbrook', 'M3M', 'North York', 'Downsview', 'M4M', 'East Toronto', 'Studio District', 'M5M', 'North York', 'Bedford Park / Lawrence Manor East', 'M6M', 'York', 'Del Ray / Mount Dennis / Keelsdale and Silverthorn', 'M7M', 'Not assigned', '', 'M8M', 'Not assigned', '', 'M9M', 'North York', 'Humberlea / Emery', 'M1N', 'Scarborough', 'Birch Cliff / Cliffside West', 'M2N', 'North York', 'Willowdale', 'M3N', 'North York', 'Downsview', 'M4N', 'Central Toronto', 'Lawrence Park', 'M5N', 'Central Toronto', 'Roselawn', 'M6N', 'York', 'Runnymede / The Junction North', 'M7N', 'Not assigned', '', 'M8N', 'Not assigned', '', 'M9N', 'York', 'Weston', 'M1P', 'Scarborough', 'Dorset Park / Wexford Heights / Scarborough Town Centre', 'M2P', 'North York', 'York Mills West', 'M3P', 'Not assigned', '', 'M4P', 'Central Toronto', 'Davisville North', 'M5P', 'Central Toronto', 'Forest Hill North & West', 'M6P', 'West Toronto', 'High Park / The Junction South', 'M7P', 'Not assigned', '', 'M8P', 'Not assigned', '', 'M9P', 'Etobicoke', 'Westmount', 'M1R', 'Scarborough', 'Wexford / Maryvale', 'M2R', 'North York', 'Willowdale', 'M3R', 'Not assigned', '', 'M4R', 'Central Toronto', 'North Toronto West', 'M5R', 'Central Toronto', 'The Annex / North Midtown / Yorkville', 'M6R', 'West Toronto', 'Parkdale / Roncesvalles', 'M7R', 'Mississauga', 'Canada Post Gateway Processing Centre', 'M8R', 'Not assigned', '', 'M9R', 'Etobicoke', 'Kingsview Village / St. Phillips / Martin Grove Gardens / Richview Gardens', 'M1S', 'Scarborough', 'Agincourt', 'M2S', 'Not assigned', '', 'M3S', 'Not assigned', '', 'M4S', 'Central Toronto', 'Davisville', 'M5S', 'Downtown Toronto', 'University of Toronto / Harbord', 'M6S', 'West Toronto', 'Runnymede / Swansea', 'M7S', 'Not assigned', '', 'M8S', 'Not assigned', '', 'M9S', 'Not assigned', '', 'M1T', 'Scarborough', \"Clarks Corners / Tam O'Shanter / Sullivan\", 'M2T', 'Not assigned', '', 'M3T', 'Not assigned', '', 'M4T', 'Central Toronto', 'Moore Park / Summerhill East', 'M5T', 'Downtown Toronto', 'Kensington Market / Chinatown / Grange Park', 'M6T', 'Not assigned', '', 'M7T', 'Not assigned', '', 'M8T', 'Not assigned', '', 'M9T', 'Not assigned', '', 'M1V', 'Scarborough', \"Milliken / Agincourt North / Steeles East / L'Amoreaux East\", 'M2V', 'Not assigned', '', 'M3V', 'Not assigned', '', 'M4V', 'Central Toronto', 'Summerhill West / Rathnelly / South Hill / Forest Hill SE / Deer Park', 'M5V', 'Downtown Toronto', 'CN Tower / King and Spadina / Railway Lands / Harbourfront West / Bathurst Quay / South Niagara / Island airport', 'M6V', 'Not assigned', '', 'M7V', 'Not assigned', '', 'M8V', 'Etobicoke', 'New Toronto / Mimico South / Humber Bay Shores', 'M9V', 'Etobicoke', 'South Steeles / Silverstone / Humbergate / Jamestown / Mount Olive / Beaumond Heights / Thistletown / Albion Gardens', 'M1W', 'Scarborough', \"Steeles West / L'Amoreaux West\", 'M2W', 'Not assigned', '', 'M3W', 'Not assigned', '', 'M4W', 'Downtown Toronto', 'Rosedale', 'M5W', 'Downtown Toronto', 'Stn A PO Boxes', 'M6W', 'Not assigned', '', 'M7W', 'Not assigned', '', 'M8W', 'Etobicoke', 'Alderwood / Long Branch', 'M9W', 'Etobicoke', 'Northwest', 'M1X', 'Scarborough', 'Upper Rouge', 'M2X', 'Not assigned', '', 'M3X', 'Not assigned', '', 'M4X', 'Downtown Toronto', 'St. James Town / Cabbagetown', 'M5X', 'Downtown Toronto', 'First Canadian Place / Underground city', 'M6X', 'Not assigned', '', 'M7X', 'Not assigned', '', 'M8X', 'Etobicoke', 'The Kingsway / Montgomery Road  / Old Mill North', 'M9X', 'Not assigned', '', 'M1Y', 'Not assigned', '', 'M2Y', 'Not assigned', '', 'M3Y', 'Not assigned', '', 'M4Y', 'Downtown Toronto', 'Church and Wellesley', 'M5Y', 'Not assigned', '', 'M6Y', 'Not assigned', '', 'M7Y', 'East Toronto', 'Business reply mail Processing CentrE', 'M8Y', 'Etobicoke', \"Old Mill South / King's Mill Park / Sunnylea / Humber Bay / Mimico NE / The Queensway East / Royal York South East / Kingsway Park South East\", 'M9Y', 'Not assigned', '', 'M1Z', 'Not assigned', '', 'M2Z', 'Not assigned', '', 'M3Z', 'Not assigned', '', 'M4Z', 'Not assigned', '', 'M5Z', 'Not assigned', '', 'M6Z', 'Not assigned', '', 'M7Z', 'Not assigned', '', 'M8Z', 'Etobicoke', 'Mimico NW / The Queensway West / South of Bloor / Kingsway Park South West / Royal York South West', 'M9Z', 'Not assigned', '']\n",
                    "name": "stdout"
                }
            ]
        },
        {
            "metadata": {},
            "cell_type": "code",
            "source": "PostalCode = [] #defino una lista vacia que se va a llenar con una funci\u00f3n\nfor i in range(0, len(limpio),6): #la funcion establece que para todos los valores en el indice 0 de las columnas y a lo largo de la lista limpio se agrega a una lista aparte.\n    PostalCode.append(limpio[i])\n\n    \nBorough = []\nfor i in range(1, len(limpio),6):\n    Borough.append(limpio[i])\n    \ncountryList = []\nfor i in range(2, len(limpio),6):\n    countryList.append(limpio[i])",
            "execution_count": 25,
            "outputs": []
        },
        {
            "metadata": {},
            "cell_type": "code",
            "source": "neighborhoods ['PostalCode'] =PostalCode\nneighborhoods ['Borough'] =Borough\nneighborhoods ['Neighborhood'] =countryList",
            "execution_count": 26,
            "outputs": []
        },
        {
            "metadata": {},
            "cell_type": "code",
            "source": "neighborhoods.head()",
            "execution_count": 44,
            "outputs": [
                {
                    "output_type": "execute_result",
                    "execution_count": 44,
                    "data": {
                        "text/plain": "  PostalCode           Borough                                  Neighborhood\n0        M3A        North York                                     Parkwoods\n1        M5A  Downtown Toronto                    Regent Park / Harbourfront\n2        M7A  Downtown Toronto  Queen's Park / Ontario Provincial Government\n3        M9A         Etobicoke                              Islington Avenue\n4        M4B         East York              Parkview Hill / Woodbine Gardens",
                        "text/html": "<div>\n<style scoped>\n    .dataframe tbody tr th:only-of-type {\n        vertical-align: middle;\n    }\n\n    .dataframe tbody tr th {\n        vertical-align: top;\n    }\n\n    .dataframe thead th {\n        text-align: right;\n    }\n</style>\n<table border=\"1\" class=\"dataframe\">\n  <thead>\n    <tr style=\"text-align: right;\">\n      <th></th>\n      <th>PostalCode</th>\n      <th>Borough</th>\n      <th>Neighborhood</th>\n    </tr>\n  </thead>\n  <tbody>\n    <tr>\n      <th>0</th>\n      <td>M3A</td>\n      <td>North York</td>\n      <td>Parkwoods</td>\n    </tr>\n    <tr>\n      <th>1</th>\n      <td>M5A</td>\n      <td>Downtown Toronto</td>\n      <td>Regent Park / Harbourfront</td>\n    </tr>\n    <tr>\n      <th>2</th>\n      <td>M7A</td>\n      <td>Downtown Toronto</td>\n      <td>Queen's Park / Ontario Provincial Government</td>\n    </tr>\n    <tr>\n      <th>3</th>\n      <td>M9A</td>\n      <td>Etobicoke</td>\n      <td>Islington Avenue</td>\n    </tr>\n    <tr>\n      <th>4</th>\n      <td>M4B</td>\n      <td>East York</td>\n      <td>Parkview Hill / Woodbine Gardens</td>\n    </tr>\n  </tbody>\n</table>\n</div>"
                    },
                    "metadata": {}
                }
            ]
        },
        {
            "metadata": {},
            "cell_type": "code",
            "source": "neighborhoods.shape",
            "execution_count": 45,
            "outputs": [
                {
                    "output_type": "execute_result",
                    "execution_count": 45,
                    "data": {
                        "text/plain": "(54, 3)"
                    },
                    "metadata": {}
                }
            ]
        },
        {
            "metadata": {},
            "cell_type": "code",
            "source": "#Reemplazo los valores que no me interesan con un NaN\nneighborhoods.replace('Not assigned', np.nan, inplace = True)\nneighborhoods.head(5)",
            "execution_count": 36,
            "outputs": [
                {
                    "output_type": "execute_result",
                    "execution_count": 36,
                    "data": {
                        "text/plain": "  PostalCode           Borough                                  Neighborhood\n0        M1A               NaN                                              \n1        M3A        North York                                     Parkwoods\n2        M5A  Downtown Toronto                    Regent Park / Harbourfront\n3        M7A  Downtown Toronto  Queen's Park / Ontario Provincial Government\n4        M9A         Etobicoke                              Islington Avenue",
                        "text/html": "<div>\n<style scoped>\n    .dataframe tbody tr th:only-of-type {\n        vertical-align: middle;\n    }\n\n    .dataframe tbody tr th {\n        vertical-align: top;\n    }\n\n    .dataframe thead th {\n        text-align: right;\n    }\n</style>\n<table border=\"1\" class=\"dataframe\">\n  <thead>\n    <tr style=\"text-align: right;\">\n      <th></th>\n      <th>PostalCode</th>\n      <th>Borough</th>\n      <th>Neighborhood</th>\n    </tr>\n  </thead>\n  <tbody>\n    <tr>\n      <th>0</th>\n      <td>M1A</td>\n      <td>NaN</td>\n      <td></td>\n    </tr>\n    <tr>\n      <th>1</th>\n      <td>M3A</td>\n      <td>North York</td>\n      <td>Parkwoods</td>\n    </tr>\n    <tr>\n      <th>2</th>\n      <td>M5A</td>\n      <td>Downtown Toronto</td>\n      <td>Regent Park / Harbourfront</td>\n    </tr>\n    <tr>\n      <th>3</th>\n      <td>M7A</td>\n      <td>Downtown Toronto</td>\n      <td>Queen's Park / Ontario Provincial Government</td>\n    </tr>\n    <tr>\n      <th>4</th>\n      <td>M9A</td>\n      <td>Etobicoke</td>\n      <td>Islington Avenue</td>\n    </tr>\n  </tbody>\n</table>\n</div>"
                    },
                    "metadata": {}
                }
            ]
        },
        {
            "metadata": {},
            "cell_type": "code",
            "source": "# simply drop whole row with NaN in \"price\" column\nneighborhoods.dropna(subset=[\"Borough\"], axis=0, inplace=True)\n\n# reset index, because we droped two rows\nneighborhoods.reset_index(drop=True, inplace=True)",
            "execution_count": 37,
            "outputs": []
        },
        {
            "metadata": {},
            "cell_type": "code",
            "source": "neighborhoods.head()",
            "execution_count": 40,
            "outputs": [
                {
                    "output_type": "execute_result",
                    "execution_count": 40,
                    "data": {
                        "text/plain": "  PostalCode           Borough                                  Neighborhood\n0        M3A        North York                                     Parkwoods\n1        M5A  Downtown Toronto                    Regent Park / Harbourfront\n2        M7A  Downtown Toronto  Queen's Park / Ontario Provincial Government\n3        M9A         Etobicoke                              Islington Avenue\n4        M4B         East York              Parkview Hill / Woodbine Gardens",
                        "text/html": "<div>\n<style scoped>\n    .dataframe tbody tr th:only-of-type {\n        vertical-align: middle;\n    }\n\n    .dataframe tbody tr th {\n        vertical-align: top;\n    }\n\n    .dataframe thead th {\n        text-align: right;\n    }\n</style>\n<table border=\"1\" class=\"dataframe\">\n  <thead>\n    <tr style=\"text-align: right;\">\n      <th></th>\n      <th>PostalCode</th>\n      <th>Borough</th>\n      <th>Neighborhood</th>\n    </tr>\n  </thead>\n  <tbody>\n    <tr>\n      <th>0</th>\n      <td>M3A</td>\n      <td>North York</td>\n      <td>Parkwoods</td>\n    </tr>\n    <tr>\n      <th>1</th>\n      <td>M5A</td>\n      <td>Downtown Toronto</td>\n      <td>Regent Park / Harbourfront</td>\n    </tr>\n    <tr>\n      <th>2</th>\n      <td>M7A</td>\n      <td>Downtown Toronto</td>\n      <td>Queen's Park / Ontario Provincial Government</td>\n    </tr>\n    <tr>\n      <th>3</th>\n      <td>M9A</td>\n      <td>Etobicoke</td>\n      <td>Islington Avenue</td>\n    </tr>\n    <tr>\n      <th>4</th>\n      <td>M4B</td>\n      <td>East York</td>\n      <td>Parkview Hill / Woodbine Gardens</td>\n    </tr>\n  </tbody>\n</table>\n</div>"
                    },
                    "metadata": {}
                }
            ]
        },
        {
            "metadata": {},
            "cell_type": "code",
            "source": "neighborhoods",
            "execution_count": 42,
            "outputs": [
                {
                    "output_type": "execute_result",
                    "execution_count": 42,
                    "data": {
                        "text/plain": "   PostalCode           Borough  \\\n0         M3A        North York   \n1         M5A  Downtown Toronto   \n2         M7A  Downtown Toronto   \n3         M9A         Etobicoke   \n4         M4B         East York   \n5         M6B        North York   \n6         M1C       Scarborough   \n7         M3C        North York   \n8         M5C  Downtown Toronto   \n9         M9C         Etobicoke   \n10        M4E      East Toronto   \n11        M6E              York   \n12        M1G       Scarborough   \n13        M5G  Downtown Toronto   \n14        M2H        North York   \n15        M4H         East York   \n16        M6H      West Toronto   \n17        M1J       Scarborough   \n18        M3J        North York   \n19        M5J  Downtown Toronto   \n20        M2K        North York   \n21        M4K      East Toronto   \n22        M6K      West Toronto   \n23        M1L       Scarborough   \n24        M3L        North York   \n25        M5L  Downtown Toronto   \n26        M9L        North York   \n27        M2M        North York   \n28        M4M      East Toronto   \n29        M6M              York   \n30        M1N       Scarborough   \n31        M3N        North York   \n32        M5N   Central Toronto   \n33        M9N              York   \n34        M2P        North York   \n35        M4P   Central Toronto   \n36        M6P      West Toronto   \n37        M1R       Scarborough   \n38        M5R   Central Toronto   \n39        M7R       Mississauga   \n40        M9R         Etobicoke   \n41        M4S   Central Toronto   \n42        M6S      West Toronto   \n43        M1T       Scarborough   \n44        M5T  Downtown Toronto   \n45        M4V   Central Toronto   \n46        M8V         Etobicoke   \n47        M1W       Scarborough   \n48        M5W  Downtown Toronto   \n49        M9W         Etobicoke   \n50        M4X  Downtown Toronto   \n51        M8X         Etobicoke   \n52        M7Y      East Toronto   \n53        M8Z         Etobicoke   \n\n                                         Neighborhood  \n0                                           Parkwoods  \n1                          Regent Park / Harbourfront  \n2        Queen's Park / Ontario Provincial Government  \n3                                    Islington Avenue  \n4                    Parkview Hill / Woodbine Gardens  \n5                                           Glencairn  \n6            Rouge Hill / Port Union / Highland Creek  \n7                                           Don Mills  \n8                                      St. James Town  \n9   Eringate / Bloordale Gardens / Old Burnhamthor...  \n10                                        The Beaches  \n11                                Caledonia-Fairbanks  \n12                                             Woburn  \n13                                 Central Bay Street  \n14                                  Hillcrest Village  \n15                                   Thorncliffe Park  \n16                      Dufferin / Dovercourt Village  \n17                                Scarborough Village  \n18                   Northwood Park / York University  \n19  Harbourfront East / Union Station / Toronto Is...  \n20                                    Bayview Village  \n21                      The Danforth West / Riverdale  \n22     Brockton / Parkdale Village / Exhibition Place  \n23                  Golden Mile / Clairlea / Oakridge  \n24                                          Downsview  \n25                    Commerce Court / Victoria Hotel  \n26                                      Humber Summit  \n27                           Willowdale / Newtonbrook  \n28                                    Studio District  \n29  Del Ray / Mount Dennis / Keelsdale and Silvert...  \n30                       Birch Cliff / Cliffside West  \n31                                          Downsview  \n32                                           Roselawn  \n33                                             Weston  \n34                                    York Mills West  \n35                                   Davisville North  \n36                     High Park / The Junction South  \n37                                 Wexford / Maryvale  \n38              The Annex / North Midtown / Yorkville  \n39              Canada Post Gateway Processing Centre  \n40  Kingsview Village / St. Phillips / Martin Grov...  \n41                                         Davisville  \n42                                Runnymede / Swansea  \n43          Clarks Corners / Tam O'Shanter / Sullivan  \n44        Kensington Market / Chinatown / Grange Park  \n45  Summerhill West / Rathnelly / South Hill / For...  \n46     New Toronto / Mimico South / Humber Bay Shores  \n47                     Steeles West / L'Amoreaux West  \n48                                     Stn A PO Boxes  \n49                                          Northwest  \n50                       St. James Town / Cabbagetown  \n51   The Kingsway / Montgomery Road  / Old Mill North  \n52              Business reply mail Processing CentrE  \n53  Mimico NW / The Queensway West / South of Bloo...  ",
                        "text/html": "<div>\n<style scoped>\n    .dataframe tbody tr th:only-of-type {\n        vertical-align: middle;\n    }\n\n    .dataframe tbody tr th {\n        vertical-align: top;\n    }\n\n    .dataframe thead th {\n        text-align: right;\n    }\n</style>\n<table border=\"1\" class=\"dataframe\">\n  <thead>\n    <tr style=\"text-align: right;\">\n      <th></th>\n      <th>PostalCode</th>\n      <th>Borough</th>\n      <th>Neighborhood</th>\n    </tr>\n  </thead>\n  <tbody>\n    <tr>\n      <th>0</th>\n      <td>M3A</td>\n      <td>North York</td>\n      <td>Parkwoods</td>\n    </tr>\n    <tr>\n      <th>1</th>\n      <td>M5A</td>\n      <td>Downtown Toronto</td>\n      <td>Regent Park / Harbourfront</td>\n    </tr>\n    <tr>\n      <th>2</th>\n      <td>M7A</td>\n      <td>Downtown Toronto</td>\n      <td>Queen's Park / Ontario Provincial Government</td>\n    </tr>\n    <tr>\n      <th>3</th>\n      <td>M9A</td>\n      <td>Etobicoke</td>\n      <td>Islington Avenue</td>\n    </tr>\n    <tr>\n      <th>4</th>\n      <td>M4B</td>\n      <td>East York</td>\n      <td>Parkview Hill / Woodbine Gardens</td>\n    </tr>\n    <tr>\n      <th>5</th>\n      <td>M6B</td>\n      <td>North York</td>\n      <td>Glencairn</td>\n    </tr>\n    <tr>\n      <th>6</th>\n      <td>M1C</td>\n      <td>Scarborough</td>\n      <td>Rouge Hill / Port Union / Highland Creek</td>\n    </tr>\n    <tr>\n      <th>7</th>\n      <td>M3C</td>\n      <td>North York</td>\n      <td>Don Mills</td>\n    </tr>\n    <tr>\n      <th>8</th>\n      <td>M5C</td>\n      <td>Downtown Toronto</td>\n      <td>St. James Town</td>\n    </tr>\n    <tr>\n      <th>9</th>\n      <td>M9C</td>\n      <td>Etobicoke</td>\n      <td>Eringate / Bloordale Gardens / Old Burnhamthor...</td>\n    </tr>\n    <tr>\n      <th>10</th>\n      <td>M4E</td>\n      <td>East Toronto</td>\n      <td>The Beaches</td>\n    </tr>\n    <tr>\n      <th>11</th>\n      <td>M6E</td>\n      <td>York</td>\n      <td>Caledonia-Fairbanks</td>\n    </tr>\n    <tr>\n      <th>12</th>\n      <td>M1G</td>\n      <td>Scarborough</td>\n      <td>Woburn</td>\n    </tr>\n    <tr>\n      <th>13</th>\n      <td>M5G</td>\n      <td>Downtown Toronto</td>\n      <td>Central Bay Street</td>\n    </tr>\n    <tr>\n      <th>14</th>\n      <td>M2H</td>\n      <td>North York</td>\n      <td>Hillcrest Village</td>\n    </tr>\n    <tr>\n      <th>15</th>\n      <td>M4H</td>\n      <td>East York</td>\n      <td>Thorncliffe Park</td>\n    </tr>\n    <tr>\n      <th>16</th>\n      <td>M6H</td>\n      <td>West Toronto</td>\n      <td>Dufferin / Dovercourt Village</td>\n    </tr>\n    <tr>\n      <th>17</th>\n      <td>M1J</td>\n      <td>Scarborough</td>\n      <td>Scarborough Village</td>\n    </tr>\n    <tr>\n      <th>18</th>\n      <td>M3J</td>\n      <td>North York</td>\n      <td>Northwood Park / York University</td>\n    </tr>\n    <tr>\n      <th>19</th>\n      <td>M5J</td>\n      <td>Downtown Toronto</td>\n      <td>Harbourfront East / Union Station / Toronto Is...</td>\n    </tr>\n    <tr>\n      <th>20</th>\n      <td>M2K</td>\n      <td>North York</td>\n      <td>Bayview Village</td>\n    </tr>\n    <tr>\n      <th>21</th>\n      <td>M4K</td>\n      <td>East Toronto</td>\n      <td>The Danforth West / Riverdale</td>\n    </tr>\n    <tr>\n      <th>22</th>\n      <td>M6K</td>\n      <td>West Toronto</td>\n      <td>Brockton / Parkdale Village / Exhibition Place</td>\n    </tr>\n    <tr>\n      <th>23</th>\n      <td>M1L</td>\n      <td>Scarborough</td>\n      <td>Golden Mile / Clairlea / Oakridge</td>\n    </tr>\n    <tr>\n      <th>24</th>\n      <td>M3L</td>\n      <td>North York</td>\n      <td>Downsview</td>\n    </tr>\n    <tr>\n      <th>25</th>\n      <td>M5L</td>\n      <td>Downtown Toronto</td>\n      <td>Commerce Court / Victoria Hotel</td>\n    </tr>\n    <tr>\n      <th>26</th>\n      <td>M9L</td>\n      <td>North York</td>\n      <td>Humber Summit</td>\n    </tr>\n    <tr>\n      <th>27</th>\n      <td>M2M</td>\n      <td>North York</td>\n      <td>Willowdale / Newtonbrook</td>\n    </tr>\n    <tr>\n      <th>28</th>\n      <td>M4M</td>\n      <td>East Toronto</td>\n      <td>Studio District</td>\n    </tr>\n    <tr>\n      <th>29</th>\n      <td>M6M</td>\n      <td>York</td>\n      <td>Del Ray / Mount Dennis / Keelsdale and Silvert...</td>\n    </tr>\n    <tr>\n      <th>30</th>\n      <td>M1N</td>\n      <td>Scarborough</td>\n      <td>Birch Cliff / Cliffside West</td>\n    </tr>\n    <tr>\n      <th>31</th>\n      <td>M3N</td>\n      <td>North York</td>\n      <td>Downsview</td>\n    </tr>\n    <tr>\n      <th>32</th>\n      <td>M5N</td>\n      <td>Central Toronto</td>\n      <td>Roselawn</td>\n    </tr>\n    <tr>\n      <th>33</th>\n      <td>M9N</td>\n      <td>York</td>\n      <td>Weston</td>\n    </tr>\n    <tr>\n      <th>34</th>\n      <td>M2P</td>\n      <td>North York</td>\n      <td>York Mills West</td>\n    </tr>\n    <tr>\n      <th>35</th>\n      <td>M4P</td>\n      <td>Central Toronto</td>\n      <td>Davisville North</td>\n    </tr>\n    <tr>\n      <th>36</th>\n      <td>M6P</td>\n      <td>West Toronto</td>\n      <td>High Park / The Junction South</td>\n    </tr>\n    <tr>\n      <th>37</th>\n      <td>M1R</td>\n      <td>Scarborough</td>\n      <td>Wexford / Maryvale</td>\n    </tr>\n    <tr>\n      <th>38</th>\n      <td>M5R</td>\n      <td>Central Toronto</td>\n      <td>The Annex / North Midtown / Yorkville</td>\n    </tr>\n    <tr>\n      <th>39</th>\n      <td>M7R</td>\n      <td>Mississauga</td>\n      <td>Canada Post Gateway Processing Centre</td>\n    </tr>\n    <tr>\n      <th>40</th>\n      <td>M9R</td>\n      <td>Etobicoke</td>\n      <td>Kingsview Village / St. Phillips / Martin Grov...</td>\n    </tr>\n    <tr>\n      <th>41</th>\n      <td>M4S</td>\n      <td>Central Toronto</td>\n      <td>Davisville</td>\n    </tr>\n    <tr>\n      <th>42</th>\n      <td>M6S</td>\n      <td>West Toronto</td>\n      <td>Runnymede / Swansea</td>\n    </tr>\n    <tr>\n      <th>43</th>\n      <td>M1T</td>\n      <td>Scarborough</td>\n      <td>Clarks Corners / Tam O'Shanter / Sullivan</td>\n    </tr>\n    <tr>\n      <th>44</th>\n      <td>M5T</td>\n      <td>Downtown Toronto</td>\n      <td>Kensington Market / Chinatown / Grange Park</td>\n    </tr>\n    <tr>\n      <th>45</th>\n      <td>M4V</td>\n      <td>Central Toronto</td>\n      <td>Summerhill West / Rathnelly / South Hill / For...</td>\n    </tr>\n    <tr>\n      <th>46</th>\n      <td>M8V</td>\n      <td>Etobicoke</td>\n      <td>New Toronto / Mimico South / Humber Bay Shores</td>\n    </tr>\n    <tr>\n      <th>47</th>\n      <td>M1W</td>\n      <td>Scarborough</td>\n      <td>Steeles West / L'Amoreaux West</td>\n    </tr>\n    <tr>\n      <th>48</th>\n      <td>M5W</td>\n      <td>Downtown Toronto</td>\n      <td>Stn A PO Boxes</td>\n    </tr>\n    <tr>\n      <th>49</th>\n      <td>M9W</td>\n      <td>Etobicoke</td>\n      <td>Northwest</td>\n    </tr>\n    <tr>\n      <th>50</th>\n      <td>M4X</td>\n      <td>Downtown Toronto</td>\n      <td>St. James Town / Cabbagetown</td>\n    </tr>\n    <tr>\n      <th>51</th>\n      <td>M8X</td>\n      <td>Etobicoke</td>\n      <td>The Kingsway / Montgomery Road  / Old Mill North</td>\n    </tr>\n    <tr>\n      <th>52</th>\n      <td>M7Y</td>\n      <td>East Toronto</td>\n      <td>Business reply mail Processing CentrE</td>\n    </tr>\n    <tr>\n      <th>53</th>\n      <td>M8Z</td>\n      <td>Etobicoke</td>\n      <td>Mimico NW / The Queensway West / South of Bloo...</td>\n    </tr>\n  </tbody>\n</table>\n</div>"
                    },
                    "metadata": {}
                }
            ]
        },
        {
            "metadata": {},
            "cell_type": "code",
            "source": "neighborhoods.shape",
            "execution_count": 46,
            "outputs": [
                {
                    "output_type": "execute_result",
                    "execution_count": 46,
                    "data": {
                        "text/plain": "(54, 3)"
                    },
                    "metadata": {}
                }
            ]
        },
        {
            "metadata": {},
            "cell_type": "code",
            "source": "",
            "execution_count": null,
            "outputs": []
        }
    ],
    "metadata": {
        "kernelspec": {
            "name": "python3",
            "display_name": "Python 3.6",
            "language": "python"
        },
        "language_info": {
            "name": "python",
            "version": "3.6.9",
            "mimetype": "text/x-python",
            "codemirror_mode": {
                "name": "ipython",
                "version": 3
            },
            "pygments_lexer": "ipython3",
            "nbconvert_exporter": "python",
            "file_extension": ".py"
        }
    },
    "nbformat": 4,
    "nbformat_minor": 1
}